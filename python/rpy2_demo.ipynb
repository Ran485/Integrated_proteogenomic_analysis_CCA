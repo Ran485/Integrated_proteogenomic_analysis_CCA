{
 "cells": [
  {
   "cell_type": "code",
   "execution_count": 1,
   "metadata": {},
   "outputs": [],
   "source": [
    "import pandas as pd\n",
    "import numpy as np"
   ]
  },
  {
   "cell_type": "code",
   "execution_count": 2,
   "metadata": {},
   "outputs": [
    {
     "name": "stdout",
     "output_type": "stream",
     "text": [
      "<class 'pandas.core.frame.DataFrame'>\n",
      "RangeIndex: 37 entries, 0 to 36\n",
      "Data columns (total 2 columns):\n",
      " #   Column   Non-Null Count  Dtype\n",
      "---  ------   --------------  -----\n",
      " 0   Girdled  37 non-null     int64\n",
      " 1   Logged   37 non-null     int64\n",
      "dtypes: int64(2)\n",
      "memory usage: 720.0 bytes\n"
     ]
    }
   ],
   "source": [
    "import pandas as pd\n",
    "df = pd.read_csv(\"https://cos.colordi.top/Dataset/spider.csv\")\n",
    "df.info()"
   ]
  },
  {
   "cell_type": "code",
   "execution_count": 6,
   "metadata": {},
   "outputs": [
    {
     "name": "stdout",
     "output_type": "stream",
     "text": [
      "Compare 2 assemblages with Hill number order q = 0.\n",
      "$class: iNEXT\n",
      "\n",
      "$DataInfo: basic data information\n",
      "     site   n S.obs     SC f1 f2 f3 f4 f5 f6 f7 f8 f9 f10\n",
      "1 Girdled 168    26 0.9289 12  4  0  1  0  2  0  1  1   0\n",
      "2  Logged 252    37 0.9446 14  4  4  3  1  0  3  2  0   1\n",
      "\n",
      "$iNextEst: diversity estimates with rarefied and extrapolated samples.\n",
      "$Girdled\n",
      "     m       method order     qD qD.LCL qD.UCL    SC SC.LCL SC.UCL\n",
      "1    1 interpolated     0  1.000  1.000  1.000 0.122  0.101  0.143\n",
      "10  84 interpolated     0 18.912 16.295 21.530 0.900  0.871  0.928\n",
      "20 168     observed     0 26.000 21.680 30.320 0.929  0.903  0.955\n",
      "30 248 extrapolated     0 30.883 24.998 36.769 0.948  0.918  0.979\n",
      "40 336 extrapolated     0 34.731 26.854 42.607 0.964  0.932  0.995\n",
      "\n",
      "$Logged\n",
      "     m       method order     qD qD.LCL qD.UCL    SC SC.LCL SC.UCL\n",
      "1    1 interpolated     0  1.000  1.000  1.000 0.145  0.106  0.183\n",
      "10 126 interpolated     0 28.268 25.416 31.119 0.908  0.887  0.929\n",
      "20 252     observed     0 37.000 32.315 41.685 0.945  0.923  0.966\n",
      "30 371 extrapolated     0 42.786 36.077 49.494 0.958  0.932  0.983\n",
      "40 504 extrapolated     0 47.644 38.200 57.089 0.969  0.943  0.995\n",
      "\n",
      "\n",
      "$AsyEst: asymptotic diversity estimates along with related statistics.\n",
      "     Site         Diversity Observed Estimator   s.e.    LCL     UCL\n",
      "1 Girdled  Species richness   26.000    43.893 14.306 30.511  96.971\n",
      "2 Girdled Shannon diversity   12.060    13.826  1.421 12.060  16.612\n",
      "3 Girdled Simpson diversity    7.840     8.175  0.959  7.840  10.054\n",
      "4  Logged  Species richness   37.000    61.403 18.532 43.502 128.583\n",
      "5  Logged Shannon diversity   14.421    16.337  1.700 14.421  19.669\n",
      "6  Logged Simpson diversity    6.761     6.920  0.828  6.761   8.543\n",
      "\n",
      "NOTE: Only show five estimates, call iNEXT.object$iNextEst. to show complete output.\n",
      "\n"
     ]
    }
   ],
   "source": [
    "# 接下来我想要用r里面的iNEXT包来计算一些多样性指数的估计值：\n",
    "from rpy2.robjects import r\n",
    "from rpy2.robjects.packages import importr\n",
    "from rpy2.robjects import pandas2ri\n",
    "pandas2ri.activate()\n",
    "# r['install.packages']('iNEXT') # 安装包\n",
    "inext = importr(\"iNEXT\") #library R package\n",
    "\n",
    "result = inext.iNEXT(df)\n",
    "result\n",
    "print(result)"
   ]
  },
  {
   "cell_type": "code",
   "execution_count": 9,
   "metadata": {},
   "outputs": [],
   "source": [
    "# 你会发现，result是一个R里面的list类型，它有3个子对象，这一点和在R中运行是一样的，只不过在R中会直接打印出这三个对象，\n",
    "# 当然你如果使用python的print(result)也可以一样的显示。你当然可以凭直觉对这个list对象进行python的列表取元素操作："
   ]
  },
  {
   "cell_type": "code",
   "execution_count": 11,
   "metadata": {},
   "outputs": [
    {
     "name": "stdout",
     "output_type": "stream",
     "text": [
      "<class 'pandas.core.frame.DataFrame'>\n"
     ]
    }
   ],
   "source": [
    "# 我们可以发现，取出的结果自动变成了pandas里的DataFrame类型了(type()函数已经给出了），接下来你完全可以对这个\n",
    "# DataFrame进行一套你在Python里刻在DNA里的分析了。\n",
    "print(type(result[0]))"
   ]
  },
  {
   "cell_type": "code",
   "execution_count": 10,
   "metadata": {},
   "outputs": [
    {
     "data": {
      "text/html": [
       "<div>\n",
       "<style scoped>\n",
       "    .dataframe tbody tr th:only-of-type {\n",
       "        vertical-align: middle;\n",
       "    }\n",
       "\n",
       "    .dataframe tbody tr th {\n",
       "        vertical-align: top;\n",
       "    }\n",
       "\n",
       "    .dataframe thead th {\n",
       "        text-align: right;\n",
       "    }\n",
       "</style>\n",
       "<table border=\"1\" class=\"dataframe\">\n",
       "  <thead>\n",
       "    <tr style=\"text-align: right;\">\n",
       "      <th></th>\n",
       "      <th>site</th>\n",
       "      <th>n</th>\n",
       "      <th>S.obs</th>\n",
       "      <th>SC</th>\n",
       "      <th>f1</th>\n",
       "      <th>f2</th>\n",
       "      <th>f3</th>\n",
       "      <th>f4</th>\n",
       "      <th>f5</th>\n",
       "      <th>f6</th>\n",
       "      <th>f7</th>\n",
       "      <th>f8</th>\n",
       "      <th>f9</th>\n",
       "      <th>f10</th>\n",
       "    </tr>\n",
       "  </thead>\n",
       "  <tbody>\n",
       "    <tr>\n",
       "      <th>1</th>\n",
       "      <td>Girdled</td>\n",
       "      <td>168.0</td>\n",
       "      <td>26.0</td>\n",
       "      <td>0.9289</td>\n",
       "      <td>12.0</td>\n",
       "      <td>4.0</td>\n",
       "      <td>0.0</td>\n",
       "      <td>1.0</td>\n",
       "      <td>0.0</td>\n",
       "      <td>2.0</td>\n",
       "      <td>0.0</td>\n",
       "      <td>1.0</td>\n",
       "      <td>1.0</td>\n",
       "      <td>0.0</td>\n",
       "    </tr>\n",
       "    <tr>\n",
       "      <th>2</th>\n",
       "      <td>Logged</td>\n",
       "      <td>252.0</td>\n",
       "      <td>37.0</td>\n",
       "      <td>0.9446</td>\n",
       "      <td>14.0</td>\n",
       "      <td>4.0</td>\n",
       "      <td>4.0</td>\n",
       "      <td>3.0</td>\n",
       "      <td>1.0</td>\n",
       "      <td>0.0</td>\n",
       "      <td>3.0</td>\n",
       "      <td>2.0</td>\n",
       "      <td>0.0</td>\n",
       "      <td>1.0</td>\n",
       "    </tr>\n",
       "  </tbody>\n",
       "</table>\n",
       "</div>"
      ],
      "text/plain": [
       "      site      n  S.obs      SC    f1   f2   f3   f4   f5   f6   f7   f8  \\\n",
       "1  Girdled  168.0   26.0  0.9289  12.0  4.0  0.0  1.0  0.0  2.0  0.0  1.0   \n",
       "2   Logged  252.0   37.0  0.9446  14.0  4.0  4.0  3.0  1.0  0.0  3.0  2.0   \n",
       "\n",
       "    f9  f10  \n",
       "1  1.0  0.0  \n",
       "2  0.0  1.0  "
      ]
     },
     "execution_count": 10,
     "metadata": {},
     "output_type": "execute_result"
    }
   ],
   "source": [
    "df = result[0]\n",
    "df"
   ]
  },
  {
   "cell_type": "markdown",
   "metadata": {},
   "source": [
    "## 详细解释"
   ]
  },
  {
   "cell_type": "code",
   "execution_count": 12,
   "metadata": {},
   "outputs": [],
   "source": [
    "# 详细解释\n",
    "# 上述是一个简单的例子，我们现在来看一下这里面的代码，不难发现，基本上所有的代码都是围绕rpy2.robjects来运行的。实际上我们基本也只会用到它。\n",
    "from rpy2.robjects import r"
   ]
  },
  {
   "cell_type": "code",
   "execution_count": 13,
   "metadata": {},
   "outputs": [
    {
     "data": {
      "text/plain": [
       "array([1., 2., 3.])"
      ]
     },
     "execution_count": 13,
     "metadata": {},
     "output_type": "execute_result"
    }
   ],
   "source": [
    "r('c(1,2,3)')"
   ]
  },
  {
   "cell_type": "code",
   "execution_count": 14,
   "metadata": {},
   "outputs": [
    {
     "name": "stdout",
     "output_type": "stream",
     "text": [
      "<class 'numpy.ndarray'>\n"
     ]
    }
   ],
   "source": [
    "print(type((r('c(1,2,3)'))))"
   ]
  },
  {
   "cell_type": "code",
   "execution_count": 15,
   "metadata": {},
   "outputs": [],
   "source": [
    "# 可以看到，返回的是一个ndarrray数组，这是因为rpy2是基于numpy的，所以一般而言返回的对象都是数组形式。\n",
    "# 其实，还可以使用字典形式和.方法调用属性的方法来使用r:"
   ]
  },
  {
   "cell_type": "code",
   "execution_count": 16,
   "metadata": {},
   "outputs": [
    {
     "data": {
      "text/plain": [
       "array([3.14159265])"
      ]
     },
     "execution_count": 16,
     "metadata": {},
     "output_type": "execute_result"
    }
   ],
   "source": [
    "r['pi']"
   ]
  },
  {
   "cell_type": "code",
   "execution_count": 17,
   "metadata": {},
   "outputs": [
    {
     "data": {
      "text/plain": [
       "array([1, 2, 3], dtype=int32)"
      ]
     },
     "execution_count": 17,
     "metadata": {},
     "output_type": "execute_result"
    }
   ],
   "source": [
    "r.c(1,2,3)"
   ]
  },
  {
   "cell_type": "code",
   "execution_count": 18,
   "metadata": {},
   "outputs": [
    {
     "name": "stdout",
     "output_type": "stream",
     "text": [
      "\n",
      "Call:\n",
      "lm(formula = b ~ a)\n",
      "\n",
      "Residuals:\n",
      "1 2 3 4 \n",
      "0 0 0 0 \n",
      "\n",
      "Coefficients:\n",
      "            Estimate Std. Error t value Pr(>|t|)    \n",
      "(Intercept)        0          0     NaN      NaN    \n",
      "a                  2          0     Inf   <2e-16 ***\n",
      "---\n",
      "Signif. codes:  0 ‘***’ 0.001 ‘**’ 0.01 ‘*’ 0.05 ‘.’ 0.1 ‘ ’ 1\n",
      "\n",
      "Residual standard error: 0 on 2 degrees of freedom\n",
      "Multiple R-squared:      1,\tAdjusted R-squared:      1 \n",
      "F-statistic:   Inf on 1 and 2 DF,  p-value: < 2.2e-16\n",
      "\n",
      "\n"
     ]
    }
   ],
   "source": [
    "rscript = \"\"\"\n",
    "a <- c(1,2,3,4)\n",
    "b <- c(2,4,6,8)\n",
    "fit <- lm(b~a)\n",
    "summary(fit)\n",
    "\"\"\"\n",
    "print(r(rscript))"
   ]
  },
  {
   "cell_type": "markdown",
   "metadata": {},
   "source": [
    "## 导入R包\n",
    "光用简单的R语句肯定是不符合我们的需求的，我们在Python中用R最大的目的就是用一些R的三方包嘛，这里就有了第二个语句："
   ]
  },
  {
   "cell_type": "code",
   "execution_count": null,
   "metadata": {},
   "outputs": [],
   "source": [
    "from rpy2.robjects.packages import importr\n",
    "from rpy2.robjects import pandas2ri\n",
    "pandas2ri.activate()\n",
    "\n",
    "inext = importr(\"iNEXT\")\n",
    "result = inext.iNEXT(df)"
   ]
  },
  {
   "cell_type": "code",
   "execution_count": 39,
   "metadata": {},
   "outputs": [
    {
     "name": "stderr",
     "output_type": "stream",
     "text": [
      "R[write to console]: Saving 7 x 7 in image\n",
      "\n"
     ]
    },
    {
     "data": {
      "text/html": [
       "\n",
       "        <span>StrVector with 1 elements.</span>\n",
       "        <table>\n",
       "        <tbody>\n",
       "          <tr>\n",
       "          \n",
       "            <td>\n",
       "            'test.pdf'\n",
       "            </td>\n",
       "          \n",
       "          </tr>\n",
       "        </tbody>\n",
       "        </table>\n",
       "        "
      ],
      "text/plain": [
       "<rpy2.robjects.vectors.StrVector object at 0x7fe0a0414280> [RTYPES.STRSXP]\n",
       "R classes: ('character',)\n",
       "['test.pdf']"
      ]
     },
     "execution_count": 39,
     "metadata": {},
     "output_type": "execute_result"
    }
   ],
   "source": [
    "import pandas as pd\n",
    "from rpy2.robjects.packages import importr\n",
    "from rpy2.robjects import pandas2ri\n",
    "pandas2ri.activate()\n",
    "\n",
    "df = pd.read_csv(\"https://cos.colordi.top/Dataset/spider.csv\")\n",
    "inext = importr(\"iNEXT\")\n",
    "ggplot2 = importr('ggplot2')\n",
    "result = inext.iNEXT(df)\n",
    "figure = inext.ggiNEXT(result)\n",
    "ggplot2.ggsave('test.pdf',plot=figure)"
   ]
  },
  {
   "cell_type": "code",
   "execution_count": 36,
   "metadata": {},
   "outputs": [
    {
     "name": "stderr",
     "output_type": "stream",
     "text": [
      "R[write to console]: Saving 4.17 x 4.17 in image\n",
      "\n"
     ]
    },
    {
     "data": {
      "image/jpeg": "",
      "text/plain": [
       "<IPython.core.display.Image object>"
      ]
     },
     "metadata": {},
     "output_type": "display_data"
    }
   ],
   "source": [
    "import pandas as pd\n",
    "from rpy2.robjects.lib import grdevices\n",
    "from IPython.display import Image,display\n",
    "from rpy2.robjects.packages import importr\n",
    "\n",
    "\n",
    "ggplot2 = importr('ggplot2')\n",
    "\n",
    "with grdevices.render_to_bytesio(grdevices.jpeg,width=300,height=300) as img:\n",
    "    x=inext.ggiNEXT(result)\n",
    "    ggplot2.ggsave('1.png',plot=x)\n",
    "display(Image(data=img.getvalue(),format='jpeg',embed=True))"
   ]
  },
  {
   "cell_type": "code",
   "execution_count": null,
   "metadata": {},
   "outputs": [],
   "source": []
  }
 ],
 "metadata": {
  "interpreter": {
   "hash": "b280c0ad830b7655c5b9fcdd6e5c3b5ca1f2792faa48bd8ab0a65566022419f1"
  },
  "kernelspec": {
   "display_name": "Python 3.8.12 64-bit",
   "language": "python",
   "name": "python3"
  },
  "language_info": {
   "codemirror_mode": {
    "name": "ipython",
    "version": 3
   },
   "file_extension": ".py",
   "mimetype": "text/x-python",
   "name": "python",
   "nbconvert_exporter": "python",
   "pygments_lexer": "ipython3",
   "version": "3.8.12"
  },
  "orig_nbformat": 4
 },
 "nbformat": 4,
 "nbformat_minor": 2
}
